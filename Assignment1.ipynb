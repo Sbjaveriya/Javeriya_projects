{
 "cells": [
  {
   "cell_type": "markdown",
   "id": "94af707d",
   "metadata": {},
   "source": [
    "# 1. In the below elements which of them are values or an expression? eg:- values can be integer or string and expressions will be mathematical operators."
   ]
  },
  {
   "cell_type": "raw",
   "id": "3c069b77",
   "metadata": {},
   "source": [
    "* = expression\n",
    "\n",
    "\n",
    "'hello'= value\n",
    "\n",
    "\n",
    "-87.8 = value\n",
    "\n",
    "\n",
    "- = expression\n",
    "\n",
    "/ = expression\n",
    "\n",
    "+ = expression\n",
    "\n",
    "6 = value"
   ]
  },
  {
   "cell_type": "markdown",
   "id": "5a6ba1b0",
   "metadata": {},
   "source": [
    "# 2. What is the difference between string and variable?"
   ]
  },
  {
   "cell_type": "code",
   "execution_count": null,
   "id": "49672533",
   "metadata": {},
   "outputs": [],
   "source": [
    "sequence of characters are known as string. Ex : \"javeriya\"\n",
    "variable is a container use to store the data Ex: x = 123"
   ]
  },
  {
   "cell_type": "markdown",
   "id": "4d206b43",
   "metadata": {},
   "source": [
    "# 3.Describe three different data types."
   ]
  },
  {
   "cell_type": "code",
   "execution_count": null,
   "id": "acbc000b",
   "metadata": {},
   "outputs": [],
   "source": [
    "Interger : intergers are the whole numbers it can be negative, positive but stores only numerical values .\n",
    "FLoat : float represents the floating point value which are the real numbers it divides integer part and fractional part.\n",
    "String : string is the sequence of characters ."
   ]
  },
  {
   "cell_type": "markdown",
   "id": "4e800285",
   "metadata": {},
   "source": [
    "# 4. What is an expression made up of? What do all expressions do?"
   ]
  },
  {
   "cell_type": "code",
   "execution_count": null,
   "id": "d8431272",
   "metadata": {},
   "outputs": [],
   "source": [
    "An expression is a combination of operators and operands. an expression evaluates the equation and gives the results."
   ]
  },
  {
   "cell_type": "markdown",
   "id": "d92fa5bc",
   "metadata": {},
   "source": [
    "# 5. This assignment statements, like spam = 10. What is the difference between an expression and a statement?"
   ]
  },
  {
   "cell_type": "code",
   "execution_count": null,
   "id": "fb7a431c",
   "metadata": {},
   "outputs": [],
   "source": [
    "An expression is a combination of operators and operands \n",
    "\n",
    "and the statements are just like the commands that python interpreter will print it."
   ]
  },
  {
   "cell_type": "markdown",
   "id": "7f89ea6a",
   "metadata": {},
   "source": [
    "# 6. After running the following code, what does the variable bacon contain?bacon = 22 ,bacon + 1"
   ]
  },
  {
   "cell_type": "code",
   "execution_count": 1,
   "id": "815b8e18",
   "metadata": {},
   "outputs": [],
   "source": [
    "bacon = 22"
   ]
  },
  {
   "cell_type": "code",
   "execution_count": 2,
   "id": "cfeaf174",
   "metadata": {},
   "outputs": [
    {
     "data": {
      "text/plain": [
       "23"
      ]
     },
     "execution_count": 2,
     "metadata": {},
     "output_type": "execute_result"
    }
   ],
   "source": [
    "bacon + 1"
   ]
  },
  {
   "cell_type": "code",
   "execution_count": null,
   "id": "9f21af00",
   "metadata": {},
   "outputs": [],
   "source": [
    "it gives the output 23 "
   ]
  },
  {
   "cell_type": "markdown",
   "id": "33d73068",
   "metadata": {},
   "source": [
    "# 7. What should the values of the following two terms be?'spam'+ 'spamspam','spam'*3"
   ]
  },
  {
   "cell_type": "code",
   "execution_count": 3,
   "id": "e4320e92",
   "metadata": {},
   "outputs": [
    {
     "data": {
      "text/plain": [
       "'spamspamspam'"
      ]
     },
     "execution_count": 3,
     "metadata": {},
     "output_type": "execute_result"
    }
   ],
   "source": [
    "'spam'+'spamspam'"
   ]
  },
  {
   "cell_type": "code",
   "execution_count": 5,
   "id": "10b522ba",
   "metadata": {},
   "outputs": [
    {
     "data": {
      "text/plain": [
       "'spamspamspam'"
      ]
     },
     "execution_count": 5,
     "metadata": {},
     "output_type": "execute_result"
    }
   ],
   "source": [
    "'spam' * 3"
   ]
  },
  {
   "cell_type": "code",
   "execution_count": null,
   "id": "3afa8515",
   "metadata": {},
   "outputs": [],
   "source": [
    "it gives both the output as same"
   ]
  },
  {
   "cell_type": "markdown",
   "id": "fbe185fc",
   "metadata": {},
   "source": [
    "# 8.Why is eggs a valid variable name while 100 is invalid?"
   ]
  },
  {
   "cell_type": "code",
   "execution_count": null,
   "id": "bcdf827f",
   "metadata": {},
   "outputs": [],
   "source": [
    "eggs is valid variable because variable name starts with a character not with numbers.\n",
    "ex: eggs100 is a valid variable name."
   ]
  },
  {
   "cell_type": "markdown",
   "id": "89096960",
   "metadata": {},
   "source": [
    "# 9.What three functions can be used to get the integer, floating-point number, or string version of a value?"
   ]
  },
  {
   "cell_type": "code",
   "execution_count": null,
   "id": "18182f81",
   "metadata": {},
   "outputs": [],
   "source": [
    "For the value of  interger = int()\n",
    "For the  value of floating-point = float()\n",
    "For the value of  string = str()\n"
   ]
  },
  {
   "cell_type": "markdown",
   "id": "17f9f5f5",
   "metadata": {},
   "source": [
    "# 10. Why does this expression cause an error? How can you fix it? 'i have eaten'+99+'burritos'\n"
   ]
  },
  {
   "cell_type": "raw",
   "id": "e1ce4bcb",
   "metadata": {},
   "source": [
    "The expression cause an error because it as interger value i.e 99 that cannot be concatenate with string.\n",
    "it can be fix using typecasting"
   ]
  },
  {
   "cell_type": "code",
   "execution_count": null,
   "id": "d81bc333",
   "metadata": {},
   "outputs": [],
   "source": []
  }
 ],
 "metadata": {
  "kernelspec": {
   "display_name": "Python 3",
   "language": "python",
   "name": "python3"
  },
  "language_info": {
   "codemirror_mode": {
    "name": "ipython",
    "version": 3
   },
   "file_extension": ".py",
   "mimetype": "text/x-python",
   "name": "python",
   "nbconvert_exporter": "python",
   "pygments_lexer": "ipython3",
   "version": "3.6.8"
  }
 },
 "nbformat": 4,
 "nbformat_minor": 5
}
