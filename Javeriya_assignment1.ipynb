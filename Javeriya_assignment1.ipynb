{
 "cells": [
  {
   "cell_type": "markdown",
   "id": "85559b29",
   "metadata": {},
   "source": [
    "# 1 Try to extract data from index one to index 300 with a jump of 3 "
   ]
  },
  {
   "cell_type": "code",
   "execution_count": 1,
   "id": "6c0e2f35",
   "metadata": {},
   "outputs": [],
   "source": [
    "s = \"this is My First Python programming class and i am learNING python string and its function\""
   ]
  },
  {
   "cell_type": "code",
   "execution_count": 2,
   "id": "dfd6e9f9",
   "metadata": {},
   "outputs": [
    {
     "data": {
      "text/plain": [
       "'h   r tnrrmglsnimeNGyosi dtfco'"
      ]
     },
     "execution_count": 2,
     "metadata": {},
     "output_type": "execute_result"
    }
   ],
   "source": [
    "s[1:300:3]"
   ]
  },
  {
   "cell_type": "markdown",
   "id": "d15072fe",
   "metadata": {},
   "source": [
    "# 2 Try to reverse a string without using reverse function "
   ]
  },
  {
   "cell_type": "code",
   "execution_count": 3,
   "id": "7e2f360c",
   "metadata": {},
   "outputs": [
    {
     "data": {
      "text/plain": [
       "'noitcnuf sti dna gnirts nohtyp GNINrael ma i dna ssalc gnimmargorp nohtyP tsriF yM si siht'"
      ]
     },
     "execution_count": 3,
     "metadata": {},
     "output_type": "execute_result"
    }
   ],
   "source": [
    "s[::-1]"
   ]
  },
  {
   "cell_type": "markdown",
   "id": "a376c20a",
   "metadata": {},
   "source": [
    "# 3 Try to split a string after conversion of entire string in uppercase "
   ]
  },
  {
   "cell_type": "code",
   "execution_count": 4,
   "id": "b3f99da0",
   "metadata": {},
   "outputs": [],
   "source": [
    "a = \"this\\is\\My\\First\\Python\\programming\" "
   ]
  },
  {
   "cell_type": "code",
   "execution_count": 5,
   "id": "1082b520",
   "metadata": {},
   "outputs": [
    {
     "data": {
      "text/plain": [
       "['THIS', 'IS', 'MY', 'FIRST', 'PYTHON', 'PROGRAMMING']"
      ]
     },
     "execution_count": 5,
     "metadata": {},
     "output_type": "execute_result"
    }
   ],
   "source": [
    "a = a.upper()\n",
    "a.split('\\\\')\n"
   ]
  },
  {
   "cell_type": "markdown",
   "id": "59c285e6",
   "metadata": {},
   "source": [
    "# 4 try to convert the whole string into lower case "
   ]
  },
  {
   "cell_type": "code",
   "execution_count": 6,
   "id": "892ffcb6",
   "metadata": {},
   "outputs": [
    {
     "data": {
      "text/plain": [
       "'this is my first python programming class and i am learning python string and its function'"
      ]
     },
     "execution_count": 6,
     "metadata": {},
     "output_type": "execute_result"
    }
   ],
   "source": [
    "s.lower()"
   ]
  },
  {
   "cell_type": "markdown",
   "id": "ddf2fddb",
   "metadata": {},
   "source": [
    "# 5 Try to capitalize the whole string "
   ]
  },
  {
   "cell_type": "code",
   "execution_count": 7,
   "id": "0208b680",
   "metadata": {},
   "outputs": [
    {
     "data": {
      "text/plain": [
       "'This is my first python programming class and i am learning python string and its function'"
      ]
     },
     "execution_count": 7,
     "metadata": {},
     "output_type": "execute_result"
    }
   ],
   "source": [
    "s.capitalize()"
   ]
  },
  {
   "cell_type": "markdown",
   "id": "23248cba",
   "metadata": {},
   "source": [
    "# 6 Write a diference between isalnum() and isalpha()"
   ]
  },
  {
   "cell_type": "code",
   "execution_count": null,
   "id": "095e68bb",
   "metadata": {},
   "outputs": [],
   "source": [
    "returns false isalpha() returns the value true if all the characters are only alphabets otherwise returns false\n",
    "\n",
    "*Note below mentioned are the examples"
   ]
  },
  {
   "cell_type": "code",
   "execution_count": 8,
   "id": "f8afc14d",
   "metadata": {},
   "outputs": [
    {
     "data": {
      "text/plain": [
       "True"
      ]
     },
     "execution_count": 8,
     "metadata": {},
     "output_type": "execute_result"
    }
   ],
   "source": [
    "b = \"javeriya\"\n",
    "b.isalpha()"
   ]
  },
  {
   "cell_type": "code",
   "execution_count": 9,
   "id": "a77b7b70",
   "metadata": {},
   "outputs": [
    {
     "data": {
      "text/plain": [
       "False"
      ]
     },
     "execution_count": 9,
     "metadata": {},
     "output_type": "execute_result"
    }
   ],
   "source": [
    "c=\"javeriya12\"\n",
    "c.isalpha()"
   ]
  },
  {
   "cell_type": "code",
   "execution_count": 10,
   "id": "c2f246de",
   "metadata": {},
   "outputs": [
    {
     "data": {
      "text/plain": [
       "True"
      ]
     },
     "execution_count": 10,
     "metadata": {},
     "output_type": "execute_result"
    }
   ],
   "source": [
    "c.isalnum()"
   ]
  },
  {
   "cell_type": "markdown",
   "id": "49db38c5",
   "metadata": {},
   "source": [
    "# 7 Try to give an example of expand tab"
   ]
  },
  {
   "cell_type": "code",
   "execution_count": 11,
   "id": "4212f1f7",
   "metadata": {},
   "outputs": [
    {
     "data": {
      "text/plain": [
       "'me      syeda   javeriya'"
      ]
     },
     "execution_count": 11,
     "metadata": {},
     "output_type": "execute_result"
    }
   ],
   "source": [
    "f = 'me\\tsyeda\\tjaveriya'\n",
    "f.expandtabs()"
   ]
  },
  {
   "cell_type": "markdown",
   "id": "ea278b56",
   "metadata": {},
   "source": [
    "# 8  Give an example of strip , lstrip and rstrip "
   ]
  },
  {
   "cell_type": "code",
   "execution_count": 12,
   "id": "faad4e9f",
   "metadata": {},
   "outputs": [
    {
     "data": {
      "text/plain": [
       "'javeriya'"
      ]
     },
     "execution_count": 12,
     "metadata": {},
     "output_type": "execute_result"
    }
   ],
   "source": [
    "j = '@@@@javeriya@@@@'\n",
    "j.strip('@')"
   ]
  },
  {
   "cell_type": "code",
   "execution_count": 13,
   "id": "a18e6ee7",
   "metadata": {},
   "outputs": [
    {
     "data": {
      "text/plain": [
       "'hero'"
      ]
     },
     "execution_count": 13,
     "metadata": {},
     "output_type": "execute_result"
    }
   ],
   "source": [
    "k =\"@@@hero\"\n",
    "k.lstrip('@')"
   ]
  },
  {
   "cell_type": "code",
   "execution_count": 14,
   "id": "8af1a8fc",
   "metadata": {},
   "outputs": [
    {
     "data": {
      "text/plain": [
       "'@@@orange'"
      ]
     },
     "execution_count": 14,
     "metadata": {},
     "output_type": "execute_result"
    }
   ],
   "source": [
    "l =\"@@@orange@@@@\"\n",
    "l.rstrip('@')"
   ]
  },
  {
   "cell_type": "markdown",
   "id": "6bdb0545",
   "metadata": {},
   "source": [
    "# 9 Replace a string charecter by another charector by taking your own example "
   ]
  },
  {
   "cell_type": "code",
   "execution_count": 15,
   "id": "cdcc9d4f",
   "metadata": {},
   "outputs": [
    {
     "data": {
      "text/plain": [
       "'i like novels'"
      ]
     },
     "execution_count": 15,
     "metadata": {},
     "output_type": "execute_result"
    }
   ],
   "source": [
    "t = \"i like movies\"\n",
    "t.replace(\"movies\",\"novels\")"
   ]
  },
  {
   "cell_type": "markdown",
   "id": "8e955304",
   "metadata": {},
   "source": [
    "# 10 Try  to give a defination of string center function with and exmple "
   ]
  },
  {
   "cell_type": "code",
   "execution_count": null,
   "id": "bab05567",
   "metadata": {},
   "outputs": [],
   "source": [
    "string center function will align the string to the center by filling padding(characters) to the left and right of the string\n",
    "\n",
    "syntax:\n",
    "string.center(width,fillchar)\n",
    "\n",
    "width: length of the string with padded characters\n",
    "fillchar:padding character is optional but its default value is space\n",
    "\n",
    "example:\n",
    "\n"
   ]
  },
  {
   "cell_type": "code",
   "execution_count": 17,
   "id": "61b6b15e",
   "metadata": {},
   "outputs": [
    {
     "data": {
      "text/plain": [
       "'SSSSSSjaveriyaSSSSSS'"
      ]
     },
     "execution_count": 17,
     "metadata": {},
     "output_type": "execute_result"
    }
   ],
   "source": [
    "z = \"javeriya\"\n",
    "z.center(20,\"S\")"
   ]
  },
  {
   "cell_type": "markdown",
   "id": "46001dfd",
   "metadata": {},
   "source": [
    "# 11 Write your own definition of compiler and interpretor without copy paste form internet in your own language"
   ]
  },
  {
   "cell_type": "markdown",
   "id": "cf998f5a",
   "metadata": {},
   "source": [
    "compiler scans the entire program and translate high level language into machine understable language and shows the errors and warnings at the same time.example :c,c++\n",
    "Interpreter scans the program line by line and translates high level language into machine understable language it shows one error at a time.example : java, pyhton\n",
    "\n"
   ]
  },
  {
   "cell_type": "markdown",
   "id": "80e54a11",
   "metadata": {},
   "source": [
    "# 12 Python is a interpreted of compiled language give a clear ans with your understanding "
   ]
  },
  {
   "cell_type": "markdown",
   "id": "5a689b4c",
   "metadata": {},
   "source": [
    "we give a source code to the interpreter then the interpreter will make a setup of the workflow process with the help of 4 components those components are 1)lexing 2)parsing 3)compiling the compiler will generate a Bytecode which is another extension of file called .pyc and then the byte code is handed over to the 4) interpreter which is actually a virtual machine that is closer to the operating system that virtual machine will generate the machine code as a final code to get our output"
   ]
  },
  {
   "cell_type": "markdown",
   "id": "cca01066",
   "metadata": {},
   "source": [
    "# 13 Try to write a usecase of python with your understanding .\n"
   ]
  },
  {
   "cell_type": "code",
   "execution_count": null,
   "id": "03f8b97e",
   "metadata": {},
   "outputs": [],
   "source": []
  }
 ],
 "metadata": {
  "kernelspec": {
   "display_name": "Python 3",
   "language": "python",
   "name": "python3"
  },
  "language_info": {
   "codemirror_mode": {
    "name": "ipython",
    "version": 3
   },
   "file_extension": ".py",
   "mimetype": "text/x-python",
   "name": "python",
   "nbconvert_exporter": "python",
   "pygments_lexer": "ipython3",
   "version": "3.6.8"
  }
 },
 "nbformat": 4,
 "nbformat_minor": 5
}
